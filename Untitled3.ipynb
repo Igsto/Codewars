{
 "cells": [
  {
   "cell_type": "markdown",
   "id": "7b9a5bf7-06ea-424c-b329-e1ceee8ed59f",
   "metadata": {},
   "source": [
    "Задача с кодворс"
   ]
  },
  {
   "cell_type": "code",
   "execution_count": 1,
   "id": "30d62e9f-35d5-41fb-b7f9-8398237359ba",
   "metadata": {},
   "outputs": [],
   "source": [
    "import pandas as pd\n",
    "import numpy as np\n",
    "import re\n",
    "import math\n",
    "import statistics\n",
    "from fractions import Fraction"
   ]
  },
  {
   "cell_type": "code",
   "execution_count": 2,
   "id": "400bc4cb-0516-42da-92f6-05607318f556",
   "metadata": {},
   "outputs": [
    {
     "data": {
      "text/plain": [
       "300.0083332175958"
      ]
     },
     "execution_count": 2,
     "metadata": {},
     "output_type": "execute_result"
    }
   ],
   "source": [
    "90005 ** 0.5"
   ]
  },
  {
   "cell_type": "code",
   "execution_count": 3,
   "id": "9210f32e-7f3e-4b6a-9c2c-a18c19309c86",
   "metadata": {},
   "outputs": [
    {
     "data": {
      "text/plain": [
       "8.35135135135135"
      ]
     },
     "execution_count": 3,
     "metadata": {},
     "output_type": "execute_result"
    }
   ],
   "source": [
    "309 / 37"
   ]
  },
  {
   "cell_type": "markdown",
   "id": "b67c9894-32c1-4386-a8fd-901ce61735a7",
   "metadata": {},
   "source": [
    "Bullshit"
   ]
  },
  {
   "cell_type": "code",
   "execution_count": 14,
   "id": "05bec6d3-f729-4e40-a131-8e9bf57b6578",
   "metadata": {},
   "outputs": [],
   "source": [
    "def next_smaller(n):\n",
    "    \n",
    "    if n % 10 == 0:\n",
    "        return -1\n",
    "    \n",
    "    n_arr = np.array([int(i) for i in str(n)])\n",
    "    n_arr_sorted = sorted(n_arr)\n",
    "    \n",
    "    if not (False in (n_arr == n_arr_sorted)):\n",
    "        return -1\n",
    "    \n",
    "    if 0 in n_arr:\n",
    "        power_of_10 = len(n_arr) - np.where(n_arr==0)[0][0] + 1 \n",
    "    else:\n",
    "        n_dif = n_arr - n_arr_sorted\n",
    "        power_of_10 = len(n_arr) - np.where(n_dif!=0)[0][0] + 1\n",
    "    \n",
    "    for numbr in range(1, 10**power_of_10):\n",
    "        n -= 9 \n",
    "        cur_numb_list = sorted(np.array([int(i) for i in str(n)]))\n",
    "        #cur_numb_list.sort()\n",
    "\n",
    "        if cur_numb_list == n_arr_sorted:\n",
    "            return n\n",
    "\n",
    "    return -1"
   ]
  },
  {
   "cell_type": "code",
   "execution_count": 2,
   "id": "78f1ff77-1c11-4076-90ef-e6cf3971ae11",
   "metadata": {},
   "outputs": [],
   "source": [
    "def next_smaller(n):\n",
    "    \n",
    "    if n % 10 == 0:\n",
    "        return -1\n",
    "    \n",
    "    n_arr = np.array([int(i) for i in str(n)])\n",
    "    n_arr_sorted = sorted(n_arr)\n",
    "    \n",
    "    if not (False in (n_arr == n_arr_sorted)):\n",
    "        return -1\n",
    "    \n",
    "    if 0 in n_arr:\n",
    "        n_new_arr = \n",
    "        n_new = int(''.join([str(i) for i in n_arr[np.where(n_arr==0)[0][0]-1:]]))\n",
    "        #power_of_10 = len(n_arr) - np.where(n_arr==0)[0][0] + 1 \n",
    "    else:\n",
    "        n_dif = n_arr - n_arr_sorted\n",
    "        #n_new = int(''.join([str(i) for i in n_arr[np.where(n_dif!=0)[0][0]:]]))\n",
    "        #power_of_10 = len(n_arr) - np.where(n_dif!=0)[0][0] + 1\n",
    "        \n",
    "    \n",
    "    for numbr in range(1, 10**power_of_10):\n",
    "        n_new -= 9 \n",
    "        cur_numb_list = sorted(np.array([int(i) for i in str(n)]))\n",
    "        #cur_numb_list.sort()\n",
    "\n",
    "        if cur_numb_list == n_arr_sorted:\n",
    "            return n\n",
    "\n",
    "    return -1"
   ]
  },
  {
   "cell_type": "code",
   "execution_count": null,
   "id": "4d9fbab1-aa0d-40ad-a37f-5712292aaa13",
   "metadata": {},
   "outputs": [],
   "source": [
    "def next_smaller_v2(n):\n",
    "    \n",
    "    if n % 10 == 0:\n",
    "    return -1\n",
    "    \n",
    "    n_arr = np.array([int(i) for i in str(n)])\n",
    "    n_arr_sorted = sorted(n_arr)\n",
    "    \n",
    "    if not (False in (n_arr == n_arr_sorted)):\n",
    "        return -1\n",
    "\n",
    "    if 0 in n_arr:\n",
    "        if n % 10 == 0:\n",
    "            n_new = n\n",
    "        else:\n",
    "            first_num = np.where(n_arr==0)[0][0]\n",
    "            n_arr_cut = n_arr[np.where(n_arr==0)[0][0]-1:]\n",
    "            n_arr_cut_sorted = sorted(n_arr_cut)\n",
    "            n_new = int(''.join([str(nn) for nn in n_arr_cut]))"
   ]
  },
  {
   "cell_type": "code",
   "execution_count": 17,
   "id": "8b1da3da-3f72-455a-875a-bc921cb401b4",
   "metadata": {},
   "outputs": [
    {
     "data": {
      "text/plain": [
       "500732"
      ]
     },
     "execution_count": 17,
     "metadata": {},
     "output_type": "execute_result"
    }
   ],
   "source": [
    "next_smaller(502037)"
   ]
  },
  {
   "cell_type": "code",
   "execution_count": 8,
   "id": "29d5c1cb-3797-4624-8aec-d322c3df704f",
   "metadata": {},
   "outputs": [
    {
     "data": {
      "text/plain": [
       "array([ 0,  0,  0,  0,  2,  0, -2])"
      ]
     },
     "execution_count": 8,
     "metadata": {},
     "output_type": "execute_result"
    }
   ],
   "source": [
    "n = 1234876\n",
    "\n",
    "n_arr = np.array([int(i) for i in str(n)])\n",
    "n_arr_sorted = sorted(n_arr)\n",
    "n_dif = n_arr - n_arr_sorted\n",
    "n_dif"
   ]
  },
  {
   "cell_type": "code",
   "execution_count": 9,
   "id": "4a03df3d-0e25-42b9-9c07-022ab2eebdbb",
   "metadata": {},
   "outputs": [
    {
     "data": {
      "text/plain": [
       "4"
      ]
     },
     "execution_count": 9,
     "metadata": {},
     "output_type": "execute_result"
    }
   ],
   "source": [
    "np.where(n_dif!=0)[0][0]"
   ]
  },
  {
   "cell_type": "code",
   "execution_count": 10,
   "id": "cb0e239b-0ab1-4673-905d-266d14e4d3d5",
   "metadata": {},
   "outputs": [
    {
     "data": {
      "text/plain": [
       "array([8, 7, 6])"
      ]
     },
     "execution_count": 10,
     "metadata": {},
     "output_type": "execute_result"
    }
   ],
   "source": [
    "n_arr_ed = n_arr[4:]\n",
    "n_arr_ed"
   ]
  },
  {
   "cell_type": "code",
   "execution_count": 13,
   "id": "4c6bc920-3b17-4ea4-b9a3-b11c4fe407ff",
   "metadata": {},
   "outputs": [
    {
     "data": {
      "text/plain": [
       "876"
      ]
     },
     "execution_count": 13,
     "metadata": {},
     "output_type": "execute_result"
    }
   ],
   "source": [
    "n_new = int(''.join([str(i) for i in n_arr_ed]))\n",
    "n_new"
   ]
  },
  {
   "cell_type": "code",
   "execution_count": 12,
   "id": "1813d2b0-6b85-497a-85ff-1a823baab5ca",
   "metadata": {},
   "outputs": [
    {
     "data": {
      "text/plain": [
       "1224876"
      ]
     },
     "execution_count": 12,
     "metadata": {},
     "output_type": "execute_result"
    }
   ],
   "source": [
    "n_1 = n - 10**np.where(n_dif!=0)[0][0]\n",
    "n_1"
   ]
  },
  {
   "cell_type": "code",
   "execution_count": null,
   "id": "7652ab01-af84-439e-9e0c-4fb243a48739",
   "metadata": {},
   "outputs": [],
   "source": []
  }
 ],
 "metadata": {
  "kernelspec": {
   "display_name": "Python 3 (ipykernel)",
   "language": "python",
   "name": "python3"
  },
  "language_info": {
   "codemirror_mode": {
    "name": "ipython",
    "version": 3
   },
   "file_extension": ".py",
   "mimetype": "text/x-python",
   "name": "python",
   "nbconvert_exporter": "python",
   "pygments_lexer": "ipython3",
   "version": "3.12.3"
  }
 },
 "nbformat": 4,
 "nbformat_minor": 5
}
