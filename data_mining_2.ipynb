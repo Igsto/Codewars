{
 "cells": [
  {
   "cell_type": "markdown",
   "id": "890bbd6c",
   "metadata": {},
   "source": [
    "Data mining #2\n"
   ]
  },
  {
   "cell_type": "markdown",
   "id": "17837676",
   "metadata": {},
   "source": [
    "Ссылка на задачу: https://www.codewars.com/kata/591748b3f014a2593d0000d9"
   ]
  },
  {
   "cell_type": "markdown",
   "id": "937d2450",
   "metadata": {},
   "source": [
    "Решение:"
   ]
  },
  {
   "cell_type": "code",
   "execution_count": 99,
   "id": "be2e0a36",
   "metadata": {},
   "outputs": [],
   "source": [
    "class Datamining:\n",
    "\n",
    "    def __init__(self, train_set):\n",
    "        self.train_set = train_set\n",
    "        self.len = len(train_set)\n",
    "        self.x_train = [i for i,j in train_set]\n",
    "        self.x_mean = sum(self.x_train) / self.len\n",
    "        self.y_train = [j for i,j in train_set]\n",
    "        self.y_mean = sum(self.y_train) / self.len\n",
    "        self.all_coef = self.polynomial_cofficients()\n",
    "        self.best_coef = self.get_best_coef()\n",
    "        \n",
    "    #function for x**m\n",
    "    def pow_x(self, m):\n",
    "        return sum([x**m for x in self.x_train])\n",
    "    \n",
    "    #function for y * x**m\n",
    "    def pow_xy(self, m):\n",
    "        return sum(y * x**m for x, y in zip(self.x_train, self.y_train))\n",
    "    \n",
    "    #coefficients matrix for linear system for least squares of polynomial's power\n",
    "    def coef_xy(self, n):\n",
    "        return [([self.pow_x(i+j) for i in range(n)] + [self.pow_xy(j)]) for j in range(n)]\n",
    "        \n",
    "    #Gaussian elimination for coefficients matrix \n",
    "    def gauss(self, n):\n",
    "        cur_coef = self.coef_xy(n).copy()\n",
    "        n1 = n - 1\n",
    "        \n",
    "        for i in range(n1):\n",
    "            cur_coef[i+1:] = [[cur_coef[i][j] / cur_coef[i][i] - coef2 / coef1[i] for j, coef2 in enumerate(coef1)] for coef1 in cur_coef[i+1:]]\n",
    "            \n",
    "        cur_coef.reverse()\n",
    "        for i in range(n1):\n",
    "            cur_coef[i+1:] = [[cur_coef[i][j] / cur_coef[i][-(i+2)] - coef2 / coef1[-(i+2)] for j, coef2 in enumerate(coef1)] for coef1 in cur_coef[i+1:]]\n",
    "            \n",
    "        return [coef[-1] / coef[-(i+2)] for i, coef in enumerate(cur_coef)]\n",
    "    \n",
    "    #function to get all polynomial coefficients from 1st to 5th power\n",
    "    def polynomial_cofficients(self):\n",
    "        return [self.gauss(i) for i in range(2, 7)]\n",
    "    \n",
    "    #function for polynomial approximation\n",
    "    def pow_xa(self, m):\n",
    "        return [sum([x**(m+1-i) * self.all_coef[m][i] for i in range(m+2)]) for x in self.x_train]\n",
    "    \n",
    "    #function for error\n",
    "    def error(self, m):\n",
    "        error = [y - err for y, err in zip(self.y_train, self.pow_xa(m))]\n",
    "        \n",
    "        return sum([er**2 for er in error])\n",
    "    \n",
    "    #function for approximation with smallest error\n",
    "    def get_best_coef(self):\n",
    "        errors = [self.error(i) for i in range(5)]\n",
    "        min_error = min(errors)\n",
    "        min_error_index = errors.index(min_error)\n",
    "        return self.all_coef[min_error_index]\n",
    "    \n",
    "    def predict(self, x):\n",
    "        m = len(self.best_coef) - 1\n",
    "        return sum([x**(m-d) * coef for d, coef in enumerate(self.best_coef)])"
   ]
  }
 ],
 "metadata": {
  "kernelspec": {
   "display_name": "Python 3 (ipykernel)",
   "language": "python",
   "name": "python3"
  },
  "language_info": {
   "codemirror_mode": {
    "name": "ipython",
    "version": 3
   },
   "file_extension": ".py",
   "mimetype": "text/x-python",
   "name": "python",
   "nbconvert_exporter": "python",
   "pygments_lexer": "ipython3",
   "version": "3.12.3"
  },
  "varInspector": {
   "cols": {
    "lenName": 16,
    "lenType": 16,
    "lenVar": 40
   },
   "kernels_config": {
    "python": {
     "delete_cmd_postfix": "",
     "delete_cmd_prefix": "del ",
     "library": "var_list.py",
     "varRefreshCmd": "print(var_dic_list())"
    },
    "r": {
     "delete_cmd_postfix": ") ",
     "delete_cmd_prefix": "rm(",
     "library": "var_list.r",
     "varRefreshCmd": "cat(var_dic_list()) "
    }
   },
   "types_to_exclude": [
    "module",
    "function",
    "builtin_function_or_method",
    "instance",
    "_Feature"
   ],
   "window_display": false
  }
 },
 "nbformat": 4,
 "nbformat_minor": 5
}
