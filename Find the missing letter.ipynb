{
 "cells": [
  {
   "cell_type": "markdown",
   "id": "cd54c306-094f-4a96-b02f-8a269e71f498",
   "metadata": {},
   "source": [
    "Find the missing letter\n"
   ]
  },
  {
   "cell_type": "markdown",
   "id": "482766f9-15ea-4444-8a6c-0d1e013f96c2",
   "metadata": {},
   "source": [
    "Ссылка на задачу https://www.codewars.com/kata/5839edaa6754d6fec10000a2"
   ]
  },
  {
   "cell_type": "markdown",
   "id": "5e945330-fd6e-42a0-9650-f70d9e930bd1",
   "metadata": {},
   "source": [
    "Решение"
   ]
  },
  {
   "cell_type": "code",
   "execution_count": 1,
   "id": "5825a408-eab5-4860-a176-eb3ee9dc78b5",
   "metadata": {},
   "outputs": [],
   "source": [
    "import numpy as np\n",
    "\n",
    "def find_missing_letter(chars):\n",
    "    return chr(list([ord(numb) for numb in chars] \n",
    "                    - np.array(range(ord(chars[0]), ord(chars[-1])))).index(1) + ord(chars[0]))"
   ]
  },
  {
   "cell_type": "code",
   "execution_count": null,
   "id": "5de6b455-ead4-4dc2-99a2-be6343606183",
   "metadata": {},
   "outputs": [],
   "source": []
  }
 ],
 "metadata": {
  "kernelspec": {
   "display_name": "Python 3 (ipykernel)",
   "language": "python",
   "name": "python3"
  },
  "language_info": {
   "codemirror_mode": {
    "name": "ipython",
    "version": 3
   },
   "file_extension": ".py",
   "mimetype": "text/x-python",
   "name": "python",
   "nbconvert_exporter": "python",
   "pygments_lexer": "ipython3",
   "version": "3.12.3"
  }
 },
 "nbformat": 4,
 "nbformat_minor": 5
}
