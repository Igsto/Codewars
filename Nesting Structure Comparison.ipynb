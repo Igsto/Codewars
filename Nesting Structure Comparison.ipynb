{
 "cells": [
  {
   "cell_type": "markdown",
   "id": "df4a40e3-4288-4ce6-a96e-ba9757d05c25",
   "metadata": {},
   "source": [
    "Nesting Structure Comparison\r\n"
   ]
  },
  {
   "cell_type": "markdown",
   "id": "6a87b728-2527-45b9-a28f-03ad3d15e875",
   "metadata": {},
   "source": [
    "Ссылка на задачу\n",
    "https://www.codewars.com/kata/520446778469526ec0000001"
   ]
  },
  {
   "cell_type": "markdown",
   "id": "1bbb4130-8522-42dd-9468-1de02a710f88",
   "metadata": {},
   "source": [
    "Решение"
   ]
  },
  {
   "cell_type": "code",
   "execution_count": 1,
   "id": "f9f53223-b68f-42c6-917b-b81011249285",
   "metadata": {},
   "outputs": [],
   "source": [
    "#Функция для типа\n",
    "def type_func(listt):\n",
    "    return 'not_list' if type(listt) != list else \\\n",
    "    ''.join((lambda i: 'not_list ' if type(i) != list else 'list(' + type_func(i) + ')')(i) for i in listt)\n",
    "\n",
    "#Основная функция\n",
    "def same_structure_as(original,other):\n",
    "    return type_func(original) == type_func(other)"
   ]
  },
  {
   "cell_type": "code",
   "execution_count": null,
   "id": "7e585e19-d932-414c-8d89-c0210916026f",
   "metadata": {},
   "outputs": [],
   "source": []
  }
 ],
 "metadata": {
  "kernelspec": {
   "display_name": "Python 3 (ipykernel)",
   "language": "python",
   "name": "python3"
  },
  "language_info": {
   "codemirror_mode": {
    "name": "ipython",
    "version": 3
   },
   "file_extension": ".py",
   "mimetype": "text/x-python",
   "name": "python",
   "nbconvert_exporter": "python",
   "pygments_lexer": "ipython3",
   "version": "3.12.3"
  }
 },
 "nbformat": 4,
 "nbformat_minor": 5
}
