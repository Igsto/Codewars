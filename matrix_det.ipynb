{
 "cells": [
  {
   "cell_type": "markdown",
   "id": "6bb11eab-7098-4d12-acea-32a2e55bc58c",
   "metadata": {},
   "source": [
    "Matrix Determinant\n"
   ]
  },
  {
   "cell_type": "markdown",
   "id": "92e079db-9ce5-4414-bb5b-d8bac243b991",
   "metadata": {},
   "source": [
    "Ссылка на задачу https://www.codewars.com/kata/52a382ee44408cea2500074c"
   ]
  },
  {
   "cell_type": "markdown",
   "id": "6e48e9dd-9de3-4dd5-9ed5-16603ddb1de4",
   "metadata": {},
   "source": [
    "Решение"
   ]
  },
  {
   "cell_type": "code",
   "execution_count": 2,
   "id": "da03edee-eae3-438d-ab30-ab0622a3bf89",
   "metadata": {},
   "outputs": [],
   "source": [
    "def determinant(matrix):\n",
    "    if len(matrix[0]) == 1:\n",
    "        return matrix[0][0]\n",
    "    elif len(matrix[0]) == 2:\n",
    "        return matrix[0][0]*matrix[1][1] - matrix[0][1]*matrix[1][0]\n",
    "    else:\n",
    "        return sum([matrix[0][k] * (-1)**k * det_matrix([[matrix[i][j] for j in range(len(matrix[0])) if j != k]\n",
    "                                                       for i in range(1, len(matrix[0]))]) for k in range(len(matrix[0]))])"
   ]
  },
  {
   "cell_type": "code",
   "execution_count": null,
   "id": "e1d339c0-a46d-4977-9be3-0b64ea3c9b59",
   "metadata": {},
   "outputs": [],
   "source": []
  }
 ],
 "metadata": {
  "kernelspec": {
   "display_name": "Python 3 (ipykernel)",
   "language": "python",
   "name": "python3"
  },
  "language_info": {
   "codemirror_mode": {
    "name": "ipython",
    "version": 3
   },
   "file_extension": ".py",
   "mimetype": "text/x-python",
   "name": "python",
   "nbconvert_exporter": "python",
   "pygments_lexer": "ipython3",
   "version": "3.12.3"
  }
 },
 "nbformat": 4,
 "nbformat_minor": 5
}
