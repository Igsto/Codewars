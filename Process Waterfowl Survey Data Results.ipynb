{
 "cells": [
  {
   "cell_type": "markdown",
   "id": "57600fc0-f184-42df-ba08-62ea22bfaf9e",
   "metadata": {},
   "source": [
    "Process Waterfowl Survey Data Results"
   ]
  },
  {
   "cell_type": "markdown",
   "id": "994e3fd4-db44-484c-9e60-c63c30ed11d8",
   "metadata": {},
   "source": [
    "Ссылка на з"
   ]
  },
  {
   "cell_type": "code",
   "execution_count": null,
   "id": "295c475f-21d6-45e0-8603-cc4e444a2155",
   "metadata": {},
   "outputs": [],
   "source": [
    "import pandas as pd\n",
    "import math\n",
    "import re\n",
    "\n",
    "#function for create name\n",
    "def create_name_and_num(cur_str):\n",
    "    cur_str_new_gaps = ' '.join([i for i in re.split(r'\\s', cur_str) if i])\n",
    "    count_space = len(re.findall(r'\\w+', cur_str_new_gaps))\n",
    "    if count_space == 2:\n",
    "        return re.sub(r'(.{6})(.*)(\\s)(\\d*)', \n",
    "                      '\\\\1\\\\3\\\\4',\n",
    "                      cur_str_new_gaps).upper() \n",
    "    elif count_space == 3:\n",
    "        return re.sub(r'(.{3})(.*)(\\s)(.{3})(.*)(\\s)(\\d*)',\n",
    "                      '\\\\1\\\\4\\\\6\\\\7', \n",
    "                      cur_str_new_gaps).upper()\n",
    "    elif count_space == 4:\n",
    "        return re.sub(r'(.{2})(.*)(\\s)(.{2})(.*)(\\s)(.{2})(.*)(\\s)(\\d*)',\n",
    "                      '\\\\1\\\\4\\\\7\\\\9\\\\10',\n",
    "                      cur_str_new_gaps).upper()\n",
    "    else:\n",
    "        return re.sub(r'(.{1})(.*)(\\s)(.{1})(.*)(\\s)(.{2})(.*)(\\s)(.{2})(.*)(\\s)(\\d*)',\n",
    "                      '\\\\1\\\\4\\\\7\\\\10\\\\12\\\\13', \n",
    "                      cur_str_new_gaps).upper()\n",
    "\n",
    "def create_report(names):\n",
    "\n",
    "    duck_df = (\n",
    "        pd.DataFrame([create_name_and_num(name.replace('-',' ').replace(chr(39),'')).split(' ') \n",
    "                     for name in names])\n",
    "        .astype({1:'int32'})\n",
    "        .groupby(0)\n",
    "        .sum()\n",
    "        .reset_index()\n",
    "    )\n",
    "\n",
    "    prepared = [(lambda i: duck_df.iloc[math.floor(i/2)][0] if i % 2 == 0 else duck_df.iloc[math.floor(i/2)][1])(i) \n",
    "                for i in range(len(duck_df)*2)]\n",
    "    \n",
    "    return [\"Disqualified data\"] if \"LABDUC\" in prepared else prepared"
   ]
  }
 ],
 "metadata": {
  "kernelspec": {
   "display_name": "Python 3 (ipykernel)",
   "language": "python",
   "name": "python3"
  },
  "language_info": {
   "codemirror_mode": {
    "name": "ipython",
    "version": 3
   },
   "file_extension": ".py",
   "mimetype": "text/x-python",
   "name": "python",
   "nbconvert_exporter": "python",
   "pygments_lexer": "ipython3",
   "version": "3.12.3"
  }
 },
 "nbformat": 4,
 "nbformat_minor": 5
}
