{
 "cells": [
  {
   "cell_type": "markdown",
   "id": "7b9a5bf7-06ea-424c-b329-e1ceee8ed59f",
   "metadata": {},
   "source": [
    "Differentiate a polynomial\n"
   ]
  },
  {
   "cell_type": "markdown",
   "id": "a3fd1ed1-0702-447d-8f72-aa4e2701dab8",
   "metadata": {},
   "source": [
    "Ссылка на задачу https://www.codewars.com/kata/566584e3309db1b17d000027"
   ]
  },
  {
   "cell_type": "code",
   "execution_count": 1,
   "id": "30d62e9f-35d5-41fb-b7f9-8398237359ba",
   "metadata": {},
   "outputs": [],
   "source": [
    "import re"
   ]
  },
  {
   "cell_type": "markdown",
   "id": "c34b77e6-caf9-4329-85e8-632573d68e31",
   "metadata": {},
   "source": [
    "Решение"
   ]
  },
  {
   "cell_type": "markdown",
   "id": "974e9d15-97b1-4e66-83d1-f39f21a1d071",
   "metadata": {},
   "source": [
    "Функция для определения производной члена полинома"
   ]
  },
  {
   "cell_type": "code",
   "execution_count": 2,
   "id": "2e0a400b-003c-463c-a16e-ab360188698c",
   "metadata": {},
   "outputs": [],
   "source": [
    "def get_const_diff(string):\n",
    "\n",
    "    if not ('x' in string):\n",
    "        return [0, 0]\n",
    "    \n",
    "    if string.count('^') == 0:\n",
    "        return [1, 0] if string == 'x' else [int(string.split('x')[0]), 0]\n",
    "    else:\n",
    "        str_splited = re.split(r'x\\^', string)\n",
    "        if str_splited[0] == '':\n",
    "            str_splited[0] = '1'\n",
    "        \n",
    "        return [int(str_splited[0]) * (int(str_splited[1])),  (int(str_splited[1]) - 1)]"
   ]
  },
  {
   "cell_type": "markdown",
   "id": "e1dd9048-86e5-42c0-b4b0-0966bc7ddd24",
   "metadata": {},
   "source": [
    "Основная функция"
   ]
  },
  {
   "cell_type": "code",
   "execution_count": 3,
   "id": "bbceba55-9d97-493c-8a45-085232454600",
   "metadata": {},
   "outputs": [],
   "source": [
    "def differentiate(equation, point):\n",
    "    \n",
    "    if equation[0] != '-':\n",
    "        equation = '+' + equation\n",
    "        \n",
    "    splited_equation = re.split(r'(\\+|\\-)', equation)[1:]\n",
    "    coef_pm = [(lambda i: 1 if i == '+' else -1)(i) for i in splited_equation if i == '+' or i == '-']\n",
    "    coef = [i for i in splited_equation if not(i == '+' or i == '-')]\n",
    "    \n",
    "    return sum([coef_pm[i] * get_const_diff(coef[i])[0] * point**get_const_diff(coef[i])[1] for i in range(len(coef_pm))])"
   ]
  },
  {
   "cell_type": "code",
   "execution_count": null,
   "id": "2eb53276-ea7d-433f-b759-050f6fbbd057",
   "metadata": {},
   "outputs": [],
   "source": []
  }
 ],
 "metadata": {
  "kernelspec": {
   "display_name": "Python 3 (ipykernel)",
   "language": "python",
   "name": "python3"
  },
  "language_info": {
   "codemirror_mode": {
    "name": "ipython",
    "version": 3
   },
   "file_extension": ".py",
   "mimetype": "text/x-python",
   "name": "python",
   "nbconvert_exporter": "python",
   "pygments_lexer": "ipython3",
   "version": "3.12.3"
  }
 },
 "nbformat": 4,
 "nbformat_minor": 5
}
